{
 "cells": [
  {
   "cell_type": "markdown",
   "metadata": {
    "id": "sxcrLORHTqjV",
    "slideshow": {
     "slide_type": "slide"
    }
   },
   "source": [
    "<img src=\"logo_orbit.png\" style=\"width:250px;height:75px\" />\n",
    "\n",
    "# ARTIFICIAL INTELEGENT\n",
    "### Selasa, 31 Agustus 2021\n"
   ]
  },
  {
   "cell_type": "markdown",
   "metadata": {
    "id": "vSYMBsgTTqjd",
    "slideshow": {
     "slide_type": "slide"
    }
   },
   "source": [
    "Oleh :\n",
    "## Saiful Islam \n",
    "## Universitas Nurul Jadid"
   ]
  },
  {
   "cell_type": "markdown",
   "metadata": {
    "id": "hTV3g-tGTqjf",
    "slideshow": {
     "slide_type": "slide"
    }
   },
   "source": [
    "## Sejarah Singkat Artificial Intelligent\n",
    "● Kata “intelligence” berasal dari bahasa Latin “intelligo”\n",
    "yang bearti “saya paham”. Barati dasar dari intelligence ialah kemampuan untuk memahami dan melakukan aksi."
   ]
  },
  {
   "cell_type": "markdown",
   "metadata": {
    "id": "neoJbnquTqjh",
    "slideshow": {
     "slide_type": "slide"
    }
   },
   "source": [
    "● Pada akhir 1955, Newell dan Simon mengembangkan The\n",
    "Logic Theorist, program AI pertama.\n"
   ]
  },
  {
   "cell_type": "markdown",
   "metadata": {
    "id": "jtg3PjY3Tqji",
    "slideshow": {
     "slide_type": "slide"
    }
   },
   "source": [
    "<img src=\"SIMON.png\" style=\"width:700px;height:250px\" />"
   ]
  },
  {
   "cell_type": "markdown",
   "metadata": {
    "colab": {
     "base_uri": "https://localhost:8080/",
     "height": 129
    },
    "executionInfo": {
     "elapsed": 444,
     "status": "error",
     "timestamp": 1630364727286,
     "user": {
      "displayName": "Saiful Islam",
      "photoUrl": "",
      "userId": "00078651029667503938"
     },
     "user_tz": -420
    },
    "id": "ENLZiORcTqjj",
    "outputId": "069d6fe5-f289-44a3-f551-d33592529901",
    "slideshow": {
     "slide_type": "slide"
    }
   },
   "source": [
    "Program ini merepresentasikan  masalah sebagai model pohon, \n",
    "lalu penyelesaiannya dengan  memilih cabang yang akan \n",
    "menghasilkan kesimpulan terbenar."
   ]
  },
  {
   "cell_type": "markdown",
   "metadata": {
    "id": "O2G0oVr0Tqjl",
    "slideshow": {
     "slide_type": "slide"
    }
   },
   "source": [
    "● Pada tahun 1956 John McCarthy dari Massacuhetts\n",
    "Institute of Technology dianggap sebagai bapak AI\n"
   ]
  },
  {
   "cell_type": "markdown",
   "metadata": {
    "id": "i61P0UEJTqjm",
    "slideshow": {
     "slide_type": "slide"
    }
   },
   "source": [
    "<img src=\"JOHN.png\" style=\"width:400px;height:400px\" />"
   ]
  },
  {
   "cell_type": "markdown",
   "metadata": {
    "id": "mTnLNv4RTqjn",
    "slideshow": {
     "slide_type": "slide"
    }
   },
   "source": [
    "# Sejarah penting pengembangan  bidang Kecerdasan Buatan"
   ]
  },
  {
   "cell_type": "markdown",
   "metadata": {
    "id": "QAD4-QrdTqjp",
    "scrolled": false
   },
   "source": [
    "\n",
    "No  Tahun   Deskripsi\n",
    "1\t1206\tRobot humanoid pertama karya Al-Jazari\n",
    "2\t1796\tBoneka penuang the dari jepang bernama    \n",
    "            Karakuri\n",
    "3\t1941\tKomputer elektronik pertama\n",
    "4\t1949\tKomputer dengna program tersimpan pertama\n",
    "5\t1956\tKelahiran dari Artificial Intelligence \n",
    "            pada Dartmouth conference\n",
    "\n"
   ]
  },
  {
   "cell_type": "markdown",
   "metadata": {
    "id": "o8wAmRoQTqjq",
    "slideshow": {
     "slide_type": "slide"
    }
   },
   "source": [
    "6\t1958\tBahasa LISP dibuat\n",
    "7\t1963\tPenelitian intensif departemen pertahanan \n",
    "            Amerika\n",
    "8\t1970\tSisem pakaer pertama diperkenalkan secara luas\n",
    "9\t1972\tBahasa Prolog diciptakan\n",
    "10\t1986\tPerangkat berbasis AI dijual luas mencapai $425 juta"
   ]
  },
  {
   "cell_type": "markdown",
   "metadata": {
    "id": "cGytrat1Tqjq",
    "slideshow": {
     "slide_type": "slide"
    }
   },
   "source": [
    "11\t1994\tAC berbasis Neuro fuzzy dijual\n",
    "12\t2010\tSistem kecerdasan buatan untuk Pesawat \n",
    "            komersial BOEING 900-ER ramai digunakan\n",
    "13\t2011\tService Robot untuk restoran berhasil dibuat \n",
    "            di Indonesia\n",
    "14\t2012\tSistem Pakar Troubleshooting Komputer berbasis \n",
    "            Fuzzy dan Self Learning\n",
    "15\t2012\tSistem immune pada Deteksi spam diciptakan"
   ]
  },
  {
   "cell_type": "markdown",
   "metadata": {
    "id": "xvICqRYgTqjr",
    "slideshow": {
     "slide_type": "slide"
    }
   },
   "source": [
    "# APA ITU AI ?"
   ]
  },
  {
   "cell_type": "markdown",
   "metadata": {
    "id": "MLOG7H8WTqjs",
    "slideshow": {
     "slide_type": "slide"
    }
   },
   "source": [
    "AI atua Kecerdasan Buatan\n",
    "adalah pengembangan dari\n",
    "system computer yang bisa\n",
    "melakukan tugas yg\n",
    "biasanya dilakukan oleh\n",
    "manusia."
   ]
  },
  {
   "cell_type": "markdown",
   "metadata": {
    "id": "sK35OWjUTqjt",
    "slideshow": {
     "slide_type": "slide"
    }
   },
   "source": [
    "# Perbedaan AI, ML , DL ?"
   ]
  },
  {
   "cell_type": "markdown",
   "metadata": {
    "id": "H3Gsq2_TTqjt",
    "slideshow": {
     "slide_type": "slide"
    }
   },
   "source": [
    "## ARTIFICIAL INTELLEGENCE\n",
    "Sebuah teknik yang\n",
    "memungkinkan machiries untuk\n",
    "meniru perilaku manusia\n",
    "\n",
    "## MACHINE LEARNING\n",
    "Subset Teknik AI yang\n",
    "menggunakan metode statistik\n",
    "untuk memungkinkan mesin\n",
    "meningkat dengan pengalaman\n",
    "\n"
   ]
  },
  {
   "cell_type": "markdown",
   "metadata": {
    "id": "gKcMVXkrTqjt",
    "slideshow": {
     "slide_type": "slide"
    }
   },
   "source": [
    "## DEEP LEARNING\n",
    "Subset dari ML yang\n",
    "membuat komputasi jaringan\n",
    "saraf multi-layer layak"
   ]
  },
  {
   "cell_type": "markdown",
   "metadata": {
    "id": "tU6evlH5Tqju",
    "slideshow": {
     "slide_type": "slide"
    }
   },
   "source": [
    "# Mengapai AI ?\n"
   ]
  },
  {
   "cell_type": "markdown",
   "metadata": {
    "id": "0PdaH_d8Tqjv",
    "slideshow": {
     "slide_type": "slide"
    }
   },
   "source": [
    "Bejo melamar perempuan. \n",
    "Setelah dia kalkulasi,dia perhitungkan peluang lamarannya diterima\n",
    "adalah 0.7. Misalkan peluang untuk setiap lamaran\n",
    "yang diajukan sama dan setiap lamaran tidak\n",
    "dipengaruhi lamaran lain (saling bebas).\n",
    "\n",
    "1. Berapa peluang setidaknya satu lamaran Bejo diterima jika dia melamar 2 perempuan?\n",
    "2.  Berapa peluang setidaknya satu lamaran Bejo diterima jika dia melamar 3 perempuan?\n",
    "3. Mana yang lebih besar? Peluang diterima saat melamar 2 atau 3 perempuan."
   ]
  },
  {
   "cell_type": "markdown",
   "metadata": {
    "id": "f8JznfK_Tqjv",
    "slideshow": {
     "slide_type": "slide"
    }
   },
   "source": [
    "<img src=\"BEBAS.png\" style=\"width:300px;height:100px\" />"
   ]
  },
  {
   "cell_type": "markdown",
   "metadata": {
    "id": "vaqJTR44Tqjw",
    "slideshow": {
     "slide_type": "slide"
    }
   },
   "source": [
    "Misalkan :\n",
    "P(A) = Peluang lamaran Bejo diterima\n",
    "\n",
    "Diketahui\n",
    "\n",
    "P(A) = 0,7 = $\\frac{7}{10}$\n",
    "\n",
    "Jawab :\n",
    "\n",
    "1. Berapa peluang setidaknya satu lamaran Bejo diterima jika dia melamar 2 perempuan?\n",
    "Maka berdasarkan peluang kejadian saling bebas \n",
    "\n",
    "P(A) dan P(A) = $P(A \\cup A)$\n",
    "\n",
    "$P(A \\cup A)$ = $P(A). P(A)$\n",
    "\n",
    "$P(A \\cup A)$ = $\\frac{7}{10}$ $\\cdot$ $\\frac{7}{10}$ = $\\frac{49}{100}$"
   ]
  },
  {
   "cell_type": "code",
   "execution_count": 1,
   "metadata": {
    "executionInfo": {
     "elapsed": 18,
     "status": "aborted",
     "timestamp": 1630364715862,
     "user": {
      "displayName": "Saiful Islam",
      "photoUrl": "",
      "userId": "00078651029667503938"
     },
     "user_tz": -420
    },
    "id": "ZQcEcHoXTqjw"
   },
   "outputs": [
    {
     "data": {
      "text/plain": [
       "0.48999999999999994"
      ]
     },
     "execution_count": 1,
     "metadata": {},
     "output_type": "execute_result"
    }
   ],
   "source": [
    "PA= 0.7 \n",
    "PA**2 "
   ]
  },
  {
   "cell_type": "markdown",
   "metadata": {
    "id": "yYyeODFFTqjy",
    "slideshow": {
     "slide_type": "slide"
    }
   },
   "source": [
    "2. Berapa peluang setidaknya satu lamaran Bejo diterima jika dia melamar 3 perempuan?\n",
    "\n",
    "$P(A \\cup A \\cup A)$ = $P(A). P(A) . P(A)$\n",
    "\n",
    "$P(A \\cup A \\cup A)$ = $\\frac{7}{10}$ $\\cdot$ $\\frac{7}{10}$ $\\cdot$ $\\frac{7}{10}$ = $\\frac{343}{1000}$\n"
   ]
  },
  {
   "cell_type": "code",
   "execution_count": 2,
   "metadata": {
    "executionInfo": {
     "elapsed": 20,
     "status": "aborted",
     "timestamp": 1630364715864,
     "user": {
      "displayName": "Saiful Islam",
      "photoUrl": "",
      "userId": "00078651029667503938"
     },
     "user_tz": -420
    },
    "id": "EfNHcbipTqjz",
    "slideshow": {
     "slide_type": "slide"
    }
   },
   "outputs": [
    {
     "data": {
      "text/plain": [
       "0.3429999999999999"
      ]
     },
     "execution_count": 2,
     "metadata": {},
     "output_type": "execute_result"
    }
   ],
   "source": [
    "PA= 0.7 \n",
    "PA**3 "
   ]
  },
  {
   "cell_type": "markdown",
   "metadata": {
    "id": "VLKqnLR0Tqjz",
    "slideshow": {
     "slide_type": "slide"
    }
   },
   "source": [
    "3. Mana yang lebih besar? Peluang diterima saat melamar 2 atau 3 perempuan.\n",
    "\n",
    "Misalkan :\n",
    "\n",
    "P2 = Peluang diterima saat melamar 2 perempuan\n",
    "\n",
    "P3 = Peluang diterima saat melamar 3 perempuan\n",
    "\n",
    "\n",
    "\n",
    "Karena P2 = 0.49\n",
    "\n",
    "Karena P3 = 0.343\n",
    "\n",
    "dan P2 > P3\n",
    "\n",
    "Peluang diterima saat melamar 2 lebih besar"
   ]
  },
  {
   "cell_type": "code",
   "execution_count": null,
   "metadata": {
    "executionInfo": {
     "elapsed": 20,
     "status": "aborted",
     "timestamp": 1630364715864,
     "user": {
      "displayName": "Saiful Islam",
      "photoUrl": "",
      "userId": "00078651029667503938"
     },
     "user_tz": -420
    },
    "id": "LjDAUUrOTqj0",
    "slideshow": {
     "slide_type": "slide"
    }
   },
   "outputs": [],
   "source": [
    "P2 = 0.49\n",
    "P3 = 0.343\n",
    "\n",
    "P2>P3"
   ]
  },
  {
   "cell_type": "markdown",
   "metadata": {
    "id": "j0G8ABOqTqj1"
   },
   "source": [
    "<img src=\"MENGAPA.png\" style=\"width:750px;height:300px\" />"
   ]
  },
  {
   "cell_type": "markdown",
   "metadata": {
    "id": "FG-vmozSTqj1"
   },
   "source": [
    "1. Banyak perusahaan yang menerapkan teknologi AI\n",
    "2. AI memudahkan berbagai aktivitas\n",
    "3. Perkembangan teknologi AI berjalan cepat\n"
   ]
  },
  {
   "cell_type": "markdown",
   "metadata": {
    "id": "YIjeirsTTqj1"
   },
   "source": [
    "# Contoh Penerapan AI\n",
    "\n"
   ]
  },
  {
   "cell_type": "markdown",
   "metadata": {
    "id": "FQJacLgOTqj2"
   },
   "source": [
    "<img src=\"PENERAPAN.png\" style=\"width:800px;height:450px\" />"
   ]
  },
  {
   "cell_type": "markdown",
   "metadata": {
    "id": "jaUs9labTqj2"
   },
   "source": [
    "# 3 Level Artificial Intelegent \n",
    "\n"
   ]
  },
  {
   "cell_type": "markdown",
   "metadata": {
    "id": "bSMzn4o3Tqj3"
   },
   "source": [
    " ### Artificial Narrow Intelligence (ANI)\n",
    "ANI disebut juga sebagai Weak AI karena kecerdasannya terbatas pada lingkungan pekerjaan dengan berbagai spesialisasinya. Pada kehidupan sehari-hari kita bisa merasakan bantuan ANI yang berupa mesin ATM, Apple Siri, Playlist Spotify, rekomendasi video di YouTube atau Netflik, hingga Gardu Tol Otomatis"
   ]
  },
  {
   "cell_type": "markdown",
   "metadata": {
    "id": "n711d1sNTqj3"
   },
   "source": [
    " ### Artificial General Intelligence(AGI)\n",
    "AGI atau disebut-sebut sebagai strong AI adalah kecerdasan buatan yang hampir setara dengan kecerdasan manusia. Kecerdasan AGI memungkinkan untuk melakukan aktivitas sehari-hari layaknya manusia."
   ]
  },
  {
   "cell_type": "markdown",
   "metadata": {
    "id": "lm-MuKkCTqj4"
   },
   "source": [
    " ### Artificial Super Intelligence\n",
    "ASI yaitu jenis Artificial Intelligence dengan kecerdasan yang superior. Mungkin apabila benar-benar bisa terwujud sebuah ASI dapat memiliki kecerdasan yang melampaui kecerdasan manusia. Misalnya memprediksi bencana, membuat peta persebaran wabah, memperkirakan kecelakaan berdasarkan peta lalu lintas."
   ]
  },
  {
   "cell_type": "markdown",
   "metadata": {
    "id": "I8nr6BPiTqj4"
   },
   "source": [
    "## Referensi\n",
    "\n",
    "https://drive.google.com/file/d/16_yqXvH3XmJEnUsw_4ok30WBcTxa2v_a/view?usp=sharing\n",
    "\n",
    "https://slideplayer.com/slide/5269559/\n",
    "\n",
    "https://socs.binus.ac.id/2012/06/06/mengenal-kecerdasan-buatan-kini-dan-akan-datang/#:~:text=Pada%20akhir%201955%2C%20Newell%20dan,yang%20akan%20menghasilkan%20kesimpulan%20terbenar\n",
    "\n",
    "https://sumberbelajar.belajar.kemdikbud.go.id/sumberbelajar/tampil/PELUANG-KEJADIAN-BERSYARAT-2016/menu3.html\n",
    "\n",
    "https://webdev-id.com/berita/apa-itu-artificial-intelligence-mengapa-anda-harus-mempelajarinya/#:~:text=itu%20Artificial%20Intelligence%20%3F-,Mengapa%20Anda%20Harus%20Mempelajarinya%20%3F,melakukan%20tugas%20mirip%20dengan%20manusia.&text=Dengan%20menggunakan%20Artificial%20Intelligence%2C%20sistem,memproses%20dan%20mengenali%20pola%20data\n",
    "\n",
    "https://refactory.id/post/6776-jenis-artificial-intelligence-yang-ada-dan-apa-fungsinya/#:~:text=Artificial%20Super%20Intelligence,kecerdasan%20yang%20melampaui%20kecerdasan%20manusia\n",
    "\n",
    "\n",
    "\n"
   ]
  }
 ],
 "metadata": {
  "celltoolbar": "Slideshow",
  "colab": {
   "name": "ORBIT_PPT1.ipynb",
   "provenance": []
  },
  "kernelspec": {
   "display_name": "Python 3",
   "language": "python",
   "name": "python3"
  },
  "language_info": {
   "codemirror_mode": {
    "name": "ipython",
    "version": 3
   },
   "file_extension": ".py",
   "mimetype": "text/x-python",
   "name": "python",
   "nbconvert_exporter": "python",
   "pygments_lexer": "ipython3",
   "version": "3.8.5"
  }
 },
 "nbformat": 4,
 "nbformat_minor": 1
}
